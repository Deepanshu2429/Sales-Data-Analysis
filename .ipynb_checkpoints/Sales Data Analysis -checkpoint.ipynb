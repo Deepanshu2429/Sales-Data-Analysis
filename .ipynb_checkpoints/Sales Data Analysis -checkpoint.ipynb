{
 "cells": [
  {
   "cell_type": "code",
   "execution_count": 86,
   "id": "31e77272",
   "metadata": {},
   "outputs": [],
   "source": [
    "import os\n",
    "import pandas as pd\n",
    "import matplotlib.pyplot as plt\n",
    "import seaborn as sns\n",
    "import numpy as np"
   ]
  },
  {
   "cell_type": "code",
   "execution_count": 22,
   "id": "c78c5c46",
   "metadata": {},
   "outputs": [
    {
     "name": "stdout",
     "output_type": "stream",
     "text": [
      "all_data.csv\n",
      "Sales_April_2019.csv\n",
      "Sales_August_2019.csv\n",
      "Sales_December_2019.csv\n",
      "Sales_February_2019.csv\n",
      "Sales_January_2019.csv\n",
      "Sales_July_2019.csv\n",
      "Sales_June_2019.csv\n",
      "Sales_March_2019.csv\n",
      "Sales_May_2019.csv\n",
      "Sales_November_2019.csv\n",
      "Sales_October_2019.csv\n",
      "Sales_September_2019.csv\n"
     ]
    },
    {
     "data": {
      "text/plain": [
       "(373700, 6)"
      ]
     },
     "execution_count": 22,
     "metadata": {},
     "output_type": "execute_result"
    }
   ],
   "source": [
    "files =[file for file in os.listdir(\"c:Sales_Data\")]\n",
    "for file in files:\n",
    "    print(file)\n",
    "path = \"c:Sales_Data\"\n",
    "\n",
    "#blank dataframe\n",
    "data = pd.DataFrame()\n",
    "\n",
    "for file in files:\n",
    "    current_df = pd.read_csv(path+\"/\"+file)\n",
    "    data = pd.concat([data, current_df])\n",
    "data.shape"
   ]
  },
  {
   "cell_type": "code",
   "execution_count": 23,
   "id": "be870f3e",
   "metadata": {},
   "outputs": [
    {
     "data": {
      "text/html": [
       "<div>\n",
       "<style scoped>\n",
       "    .dataframe tbody tr th:only-of-type {\n",
       "        vertical-align: middle;\n",
       "    }\n",
       "\n",
       "    .dataframe tbody tr th {\n",
       "        vertical-align: top;\n",
       "    }\n",
       "\n",
       "    .dataframe thead th {\n",
       "        text-align: right;\n",
       "    }\n",
       "</style>\n",
       "<table border=\"1\" class=\"dataframe\">\n",
       "  <thead>\n",
       "    <tr style=\"text-align: right;\">\n",
       "      <th></th>\n",
       "      <th>Order ID</th>\n",
       "      <th>Product</th>\n",
       "      <th>Quantity Ordered</th>\n",
       "      <th>Price Each</th>\n",
       "      <th>Order Date</th>\n",
       "      <th>Purchase Address</th>\n",
       "    </tr>\n",
       "  </thead>\n",
       "  <tbody>\n",
       "    <tr>\n",
       "      <th>0</th>\n",
       "      <td>176558</td>\n",
       "      <td>USB-C Charging Cable</td>\n",
       "      <td>2</td>\n",
       "      <td>11.95</td>\n",
       "      <td>04/19/19 08:46</td>\n",
       "      <td>917 1st St, Dallas, TX 75001</td>\n",
       "    </tr>\n",
       "    <tr>\n",
       "      <th>1</th>\n",
       "      <td>NaN</td>\n",
       "      <td>NaN</td>\n",
       "      <td>NaN</td>\n",
       "      <td>NaN</td>\n",
       "      <td>NaN</td>\n",
       "      <td>NaN</td>\n",
       "    </tr>\n",
       "    <tr>\n",
       "      <th>2</th>\n",
       "      <td>176559</td>\n",
       "      <td>Bose SoundSport Headphones</td>\n",
       "      <td>1</td>\n",
       "      <td>99.99</td>\n",
       "      <td>04/07/19 22:30</td>\n",
       "      <td>682 Chestnut St, Boston, MA 02215</td>\n",
       "    </tr>\n",
       "    <tr>\n",
       "      <th>3</th>\n",
       "      <td>176560</td>\n",
       "      <td>Google Phone</td>\n",
       "      <td>1</td>\n",
       "      <td>600</td>\n",
       "      <td>04/12/19 14:38</td>\n",
       "      <td>669 Spruce St, Los Angeles, CA 90001</td>\n",
       "    </tr>\n",
       "    <tr>\n",
       "      <th>4</th>\n",
       "      <td>176560</td>\n",
       "      <td>Wired Headphones</td>\n",
       "      <td>1</td>\n",
       "      <td>11.99</td>\n",
       "      <td>04/12/19 14:38</td>\n",
       "      <td>669 Spruce St, Los Angeles, CA 90001</td>\n",
       "    </tr>\n",
       "  </tbody>\n",
       "</table>\n",
       "</div>"
      ],
      "text/plain": [
       "  Order ID                     Product Quantity Ordered Price Each  \\\n",
       "0   176558        USB-C Charging Cable                2      11.95   \n",
       "1      NaN                         NaN              NaN        NaN   \n",
       "2   176559  Bose SoundSport Headphones                1      99.99   \n",
       "3   176560                Google Phone                1        600   \n",
       "4   176560            Wired Headphones                1      11.99   \n",
       "\n",
       "       Order Date                      Purchase Address  \n",
       "0  04/19/19 08:46          917 1st St, Dallas, TX 75001  \n",
       "1             NaN                                   NaN  \n",
       "2  04/07/19 22:30     682 Chestnut St, Boston, MA 02215  \n",
       "3  04/12/19 14:38  669 Spruce St, Los Angeles, CA 90001  \n",
       "4  04/12/19 14:38  669 Spruce St, Los Angeles, CA 90001  "
      ]
     },
     "execution_count": 23,
     "metadata": {},
     "output_type": "execute_result"
    }
   ],
   "source": [
    "\n",
    "data.to_csv('c:all_data.csv',index=False)\n",
    "data.head()"
   ]
  },
  {
   "cell_type": "code",
   "execution_count": 24,
   "id": "7dd7893b",
   "metadata": {},
   "outputs": [
    {
     "data": {
      "text/plain": [
       "Order ID            object\n",
       "Product             object\n",
       "Quantity Ordered    object\n",
       "Price Each          object\n",
       "Order Date          object\n",
       "Purchase Address    object\n",
       "dtype: object"
      ]
     },
     "execution_count": 24,
     "metadata": {},
     "output_type": "execute_result"
    }
   ],
   "source": [
    "data.dtypes"
   ]
  },
  {
   "cell_type": "code",
   "execution_count": 25,
   "id": "72a6c697",
   "metadata": {},
   "outputs": [
    {
     "name": "stdout",
     "output_type": "stream",
     "text": [
      "<class 'pandas.core.frame.DataFrame'>\n",
      "Int64Index: 373700 entries, 0 to 11685\n",
      "Data columns (total 6 columns):\n",
      " #   Column            Non-Null Count   Dtype \n",
      "---  ------            --------------   ----- \n",
      " 0   Order ID          372610 non-null  object\n",
      " 1   Product           372610 non-null  object\n",
      " 2   Quantity Ordered  372610 non-null  object\n",
      " 3   Price Each        372610 non-null  object\n",
      " 4   Order Date        372610 non-null  object\n",
      " 5   Purchase Address  372610 non-null  object\n",
      "dtypes: object(6)\n",
      "memory usage: 20.0+ MB\n"
     ]
    }
   ],
   "source": [
    "data.info()"
   ]
  },
  {
   "cell_type": "code",
   "execution_count": 26,
   "id": "7cc9fb06",
   "metadata": {},
   "outputs": [
    {
     "data": {
      "text/plain": [
       "<AxesSubplot:>"
      ]
     },
     "execution_count": 26,
     "metadata": {},
     "output_type": "execute_result"
    },
    {
     "data": {
      "image/png": "[encoded data removed]",
      "text/plain": [
       "<Figure size 432x288 with 2 Axes>"
      ]
     },
     "metadata": {
      "needs_background": "light"
     },
     "output_type": "display_data"
    }
   ],
   "source": [
    "sns.heatmap(data.isnull(), cmap='bone')"
   ]
  },
  {
   "cell_type": "code",
   "execution_count": 27,
   "id": "41258b13",
   "metadata": {},
   "outputs": [
    {
     "data": {
      "text/html": [
       "<div>\n",
       "<style scoped>\n",
       "    .dataframe tbody tr th:only-of-type {\n",
       "        vertical-align: middle;\n",
       "    }\n",
       "\n",
       "    .dataframe tbody tr th {\n",
       "        vertical-align: top;\n",
       "    }\n",
       "\n",
       "    .dataframe thead th {\n",
       "        text-align: right;\n",
       "    }\n",
       "</style>\n",
       "<table border=\"1\" class=\"dataframe\">\n",
       "  <thead>\n",
       "    <tr style=\"text-align: right;\">\n",
       "      <th></th>\n",
       "      <th>Order ID</th>\n",
       "      <th>Product</th>\n",
       "      <th>Quantity Ordered</th>\n",
       "      <th>Price Each</th>\n",
       "      <th>Order Date</th>\n",
       "      <th>Purchase Address</th>\n",
       "    </tr>\n",
       "  </thead>\n",
       "  <tbody>\n",
       "    <tr>\n",
       "      <th>count</th>\n",
       "      <td>372610</td>\n",
       "      <td>372610</td>\n",
       "      <td>372610</td>\n",
       "      <td>372610</td>\n",
       "      <td>372610</td>\n",
       "      <td>372610</td>\n",
       "    </tr>\n",
       "    <tr>\n",
       "      <th>unique</th>\n",
       "      <td>178438</td>\n",
       "      <td>20</td>\n",
       "      <td>10</td>\n",
       "      <td>24</td>\n",
       "      <td>142396</td>\n",
       "      <td>140788</td>\n",
       "    </tr>\n",
       "    <tr>\n",
       "      <th>top</th>\n",
       "      <td>Order ID</td>\n",
       "      <td>USB-C Charging Cable</td>\n",
       "      <td>1</td>\n",
       "      <td>11.95</td>\n",
       "      <td>Order Date</td>\n",
       "      <td>Purchase Address</td>\n",
       "    </tr>\n",
       "    <tr>\n",
       "      <th>freq</th>\n",
       "      <td>710</td>\n",
       "      <td>43806</td>\n",
       "      <td>337104</td>\n",
       "      <td>43806</td>\n",
       "      <td>710</td>\n",
       "      <td>710</td>\n",
       "    </tr>\n",
       "  </tbody>\n",
       "</table>\n",
       "</div>"
      ],
      "text/plain": [
       "        Order ID               Product Quantity Ordered Price Each  \\\n",
       "count     372610                372610           372610     372610   \n",
       "unique    178438                    20               10         24   \n",
       "top     Order ID  USB-C Charging Cable                1      11.95   \n",
       "freq         710                 43806           337104      43806   \n",
       "\n",
       "        Order Date  Purchase Address  \n",
       "count       372610            372610  \n",
       "unique      142396            140788  \n",
       "top     Order Date  Purchase Address  \n",
       "freq           710               710  "
      ]
     },
     "execution_count": 27,
     "metadata": {},
     "output_type": "execute_result"
    }
   ],
   "source": [
    "# for categorical variables\n",
    "data.describe(include = 'object')"
   ]
  },
  {
   "cell_type": "code",
   "execution_count": 16,
   "id": "ecf56c40",
   "metadata": {},
   "outputs": [
    {
     "data": {
      "text/plain": [
       "Order ID            1090\n",
       "Product             1090\n",
       "Quantity Ordered    1090\n",
       "Price Each          1090\n",
       "Order Date          1090\n",
       "Purchase Address    1090\n",
       "dtype: int64"
      ]
     },
     "execution_count": 16,
     "metadata": {},
     "output_type": "execute_result"
    }
   ],
   "source": [
    "all_data.isnull().sum()"
   ]
  },
  {
   "cell_type": "code",
   "execution_count": 30,
   "id": "7441cb4e",
   "metadata": {},
   "outputs": [
    {
     "data": {
      "text/plain": [
       "(372610, 6)"
      ]
     },
     "execution_count": 30,
     "metadata": {},
     "output_type": "execute_result"
    }
   ],
   "source": [
    "data = data.dropna(how='all')\n",
    "data.shape"
   ]
  },
  {
   "cell_type": "code",
   "execution_count": 31,
   "id": "19b7d8ff",
   "metadata": {},
   "outputs": [],
   "source": [
    "def month(x):\n",
    "    return x.split('/')[0]"
   ]
  },
  {
   "cell_type": "code",
   "execution_count": 32,
   "id": "7f09f74e",
   "metadata": {},
   "outputs": [],
   "source": [
    "data['Month']=data['Order Date'].apply(month)"
   ]
  },
  {
   "cell_type": "code",
   "execution_count": 33,
   "id": "050f160e",
   "metadata": {},
   "outputs": [
    {
     "data": {
      "text/plain": [
       "Order ID            object\n",
       "Product             object\n",
       "Quantity Ordered    object\n",
       "Price Each          object\n",
       "Order Date          object\n",
       "Purchase Address    object\n",
       "dtype: object"
      ]
     },
     "execution_count": 33,
     "metadata": {},
     "output_type": "execute_result"
    }
   ],
   "source": [
    "all_data.dtypes"
   ]
  },
  {
   "cell_type": "code",
   "execution_count": 35,
   "id": "98056071",
   "metadata": {},
   "outputs": [
    {
     "data": {
      "text/plain": [
       "array(['04', '05', 'Order Date', '08', '09', '12', '01', '02', '03', '07',\n",
       "       '06', '11', '10'], dtype=object)"
      ]
     },
     "execution_count": 35,
     "metadata": {},
     "output_type": "execute_result"
    }
   ],
   "source": [
    "data['Month'].unique()"
   ]
  },
  {
   "cell_type": "code",
   "execution_count": 36,
   "id": "44571bd8",
   "metadata": {},
   "outputs": [
    {
     "data": {
      "text/plain": [
       "371900"
      ]
     },
     "execution_count": 36,
     "metadata": {},
     "output_type": "execute_result"
    }
   ],
   "source": [
    "filter=data['Month']=='Order Date'\n",
    "len(data[~filter])"
   ]
  },
  {
   "cell_type": "code",
   "execution_count": 37,
   "id": "5572db4c",
   "metadata": {},
   "outputs": [],
   "source": [
    "data=data[~filter]"
   ]
  },
  {
   "cell_type": "code",
   "execution_count": 38,
   "id": "8accb1c8",
   "metadata": {},
   "outputs": [
    {
     "data": {
      "text/plain": [
       "(371900, 7)"
      ]
     },
     "execution_count": 38,
     "metadata": {},
     "output_type": "execute_result"
    }
   ],
   "source": [
    "data.shape"
   ]
  },
  {
   "cell_type": "code",
   "execution_count": 39,
   "id": "94d56404",
   "metadata": {},
   "outputs": [
    {
     "data": {
      "text/html": [
       "<div>\n",
       "<style scoped>\n",
       "    .dataframe tbody tr th:only-of-type {\n",
       "        vertical-align: middle;\n",
       "    }\n",
       "\n",
       "    .dataframe tbody tr th {\n",
       "        vertical-align: top;\n",
       "    }\n",
       "\n",
       "    .dataframe thead th {\n",
       "        text-align: right;\n",
       "    }\n",
       "</style>\n",
       "<table border=\"1\" class=\"dataframe\">\n",
       "  <thead>\n",
       "    <tr style=\"text-align: right;\">\n",
       "      <th></th>\n",
       "      <th>Order ID</th>\n",
       "      <th>Product</th>\n",
       "      <th>Quantity Ordered</th>\n",
       "      <th>Price Each</th>\n",
       "      <th>Order Date</th>\n",
       "      <th>Purchase Address</th>\n",
       "      <th>Month</th>\n",
       "    </tr>\n",
       "  </thead>\n",
       "  <tbody>\n",
       "    <tr>\n",
       "      <th>0</th>\n",
       "      <td>176558</td>\n",
       "      <td>USB-C Charging Cable</td>\n",
       "      <td>2</td>\n",
       "      <td>11.95</td>\n",
       "      <td>04/19/19 08:46</td>\n",
       "      <td>917 1st St, Dallas, TX 75001</td>\n",
       "      <td>04</td>\n",
       "    </tr>\n",
       "    <tr>\n",
       "      <th>2</th>\n",
       "      <td>176559</td>\n",
       "      <td>Bose SoundSport Headphones</td>\n",
       "      <td>1</td>\n",
       "      <td>99.99</td>\n",
       "      <td>04/07/19 22:30</td>\n",
       "      <td>682 Chestnut St, Boston, MA 02215</td>\n",
       "      <td>04</td>\n",
       "    </tr>\n",
       "    <tr>\n",
       "      <th>3</th>\n",
       "      <td>176560</td>\n",
       "      <td>Google Phone</td>\n",
       "      <td>1</td>\n",
       "      <td>600</td>\n",
       "      <td>04/12/19 14:38</td>\n",
       "      <td>669 Spruce St, Los Angeles, CA 90001</td>\n",
       "      <td>04</td>\n",
       "    </tr>\n",
       "    <tr>\n",
       "      <th>4</th>\n",
       "      <td>176560</td>\n",
       "      <td>Wired Headphones</td>\n",
       "      <td>1</td>\n",
       "      <td>11.99</td>\n",
       "      <td>04/12/19 14:38</td>\n",
       "      <td>669 Spruce St, Los Angeles, CA 90001</td>\n",
       "      <td>04</td>\n",
       "    </tr>\n",
       "    <tr>\n",
       "      <th>5</th>\n",
       "      <td>176561</td>\n",
       "      <td>Wired Headphones</td>\n",
       "      <td>1</td>\n",
       "      <td>11.99</td>\n",
       "      <td>04/30/19 09:27</td>\n",
       "      <td>333 8th St, Los Angeles, CA 90001</td>\n",
       "      <td>04</td>\n",
       "    </tr>\n",
       "  </tbody>\n",
       "</table>\n",
       "</div>"
      ],
      "text/plain": [
       "  Order ID                     Product Quantity Ordered Price Each  \\\n",
       "0   176558        USB-C Charging Cable                2      11.95   \n",
       "2   176559  Bose SoundSport Headphones                1      99.99   \n",
       "3   176560                Google Phone                1        600   \n",
       "4   176560            Wired Headphones                1      11.99   \n",
       "5   176561            Wired Headphones                1      11.99   \n",
       "\n",
       "       Order Date                      Purchase Address Month  \n",
       "0  04/19/19 08:46          917 1st St, Dallas, TX 75001    04  \n",
       "2  04/07/19 22:30     682 Chestnut St, Boston, MA 02215    04  \n",
       "3  04/12/19 14:38  669 Spruce St, Los Angeles, CA 90001    04  \n",
       "4  04/12/19 14:38  669 Spruce St, Los Angeles, CA 90001    04  \n",
       "5  04/30/19 09:27     333 8th St, Los Angeles, CA 90001    04  "
      ]
     },
     "execution_count": 39,
     "metadata": {},
     "output_type": "execute_result"
    }
   ],
   "source": [
    "data.head()"
   ]
  },
  {
   "cell_type": "code",
   "execution_count": 40,
   "id": "8811b9cf",
   "metadata": {},
   "outputs": [],
   "source": [
    "data['Month']=data['Month'].astype(int)\n",
    "data['Price Each']=data['Price Each'].astype(float)\n",
    "data['Quantity Ordered']=data['Quantity Ordered'].astype(int)"
   ]
  },
  {
   "cell_type": "code",
   "execution_count": 43,
   "id": "504419c7",
   "metadata": {},
   "outputs": [
    {
     "data": {
      "text/html": [
       "<div>\n",
       "<style scoped>\n",
       "    .dataframe tbody tr th:only-of-type {\n",
       "        vertical-align: middle;\n",
       "    }\n",
       "\n",
       "    .dataframe tbody tr th {\n",
       "        vertical-align: top;\n",
       "    }\n",
       "\n",
       "    .dataframe thead th {\n",
       "        text-align: right;\n",
       "    }\n",
       "</style>\n",
       "<table border=\"1\" class=\"dataframe\">\n",
       "  <thead>\n",
       "    <tr style=\"text-align: right;\">\n",
       "      <th></th>\n",
       "      <th>Order ID</th>\n",
       "      <th>Product</th>\n",
       "      <th>Quantity Ordered</th>\n",
       "      <th>Price Each</th>\n",
       "      <th>Order Date</th>\n",
       "      <th>Purchase Address</th>\n",
       "      <th>Month</th>\n",
       "      <th>sales</th>\n",
       "    </tr>\n",
       "  </thead>\n",
       "  <tbody>\n",
       "    <tr>\n",
       "      <th>0</th>\n",
       "      <td>176558</td>\n",
       "      <td>USB-C Charging Cable</td>\n",
       "      <td>2</td>\n",
       "      <td>11.95</td>\n",
       "      <td>04/19/19 08:46</td>\n",
       "      <td>917 1st St, Dallas, TX 75001</td>\n",
       "      <td>4</td>\n",
       "      <td>23.90</td>\n",
       "    </tr>\n",
       "    <tr>\n",
       "      <th>2</th>\n",
       "      <td>176559</td>\n",
       "      <td>Bose SoundSport Headphones</td>\n",
       "      <td>1</td>\n",
       "      <td>99.99</td>\n",
       "      <td>04/07/19 22:30</td>\n",
       "      <td>682 Chestnut St, Boston, MA 02215</td>\n",
       "      <td>4</td>\n",
       "      <td>99.99</td>\n",
       "    </tr>\n",
       "    <tr>\n",
       "      <th>3</th>\n",
       "      <td>176560</td>\n",
       "      <td>Google Phone</td>\n",
       "      <td>1</td>\n",
       "      <td>600.00</td>\n",
       "      <td>04/12/19 14:38</td>\n",
       "      <td>669 Spruce St, Los Angeles, CA 90001</td>\n",
       "      <td>4</td>\n",
       "      <td>600.00</td>\n",
       "    </tr>\n",
       "    <tr>\n",
       "      <th>4</th>\n",
       "      <td>176560</td>\n",
       "      <td>Wired Headphones</td>\n",
       "      <td>1</td>\n",
       "      <td>11.99</td>\n",
       "      <td>04/12/19 14:38</td>\n",
       "      <td>669 Spruce St, Los Angeles, CA 90001</td>\n",
       "      <td>4</td>\n",
       "      <td>11.99</td>\n",
       "    </tr>\n",
       "    <tr>\n",
       "      <th>5</th>\n",
       "      <td>176561</td>\n",
       "      <td>Wired Headphones</td>\n",
       "      <td>1</td>\n",
       "      <td>11.99</td>\n",
       "      <td>04/30/19 09:27</td>\n",
       "      <td>333 8th St, Los Angeles, CA 90001</td>\n",
       "      <td>4</td>\n",
       "      <td>11.99</td>\n",
       "    </tr>\n",
       "  </tbody>\n",
       "</table>\n",
       "</div>"
      ],
      "text/plain": [
       "  Order ID                     Product  Quantity Ordered  Price Each  \\\n",
       "0   176558        USB-C Charging Cable                 2       11.95   \n",
       "2   176559  Bose SoundSport Headphones                 1       99.99   \n",
       "3   176560                Google Phone                 1      600.00   \n",
       "4   176560            Wired Headphones                 1       11.99   \n",
       "5   176561            Wired Headphones                 1       11.99   \n",
       "\n",
       "       Order Date                      Purchase Address  Month   sales  \n",
       "0  04/19/19 08:46          917 1st St, Dallas, TX 75001      4   23.90  \n",
       "2  04/07/19 22:30     682 Chestnut St, Boston, MA 02215      4   99.99  \n",
       "3  04/12/19 14:38  669 Spruce St, Los Angeles, CA 90001      4  600.00  \n",
       "4  04/12/19 14:38  669 Spruce St, Los Angeles, CA 90001      4   11.99  \n",
       "5  04/30/19 09:27     333 8th St, Los Angeles, CA 90001      4   11.99  "
      ]
     },
     "execution_count": 43,
     "metadata": {},
     "output_type": "execute_result"
    }
   ],
   "source": [
    "data['sales']=data['Quantity Ordered']*data['Price Each']\n",
    "data.head(5)"
   ]
  },
  {
   "cell_type": "code",
   "execution_count": 47,
   "id": "d5334eef",
   "metadata": {},
   "outputs": [
    {
     "data": {
      "text/plain": [
       "Month\n",
       "1     3.644513e+06\n",
       "2     4.404045e+06\n",
       "3     5.614201e+06\n",
       "4     6.781340e+06\n",
       "5     6.305214e+06\n",
       "6     5.155605e+06\n",
       "7     5.295552e+06\n",
       "8     4.488936e+06\n",
       "9     4.195120e+06\n",
       "10    7.473454e+06\n",
       "11    6.399206e+06\n",
       "12    9.226887e+06\n",
       "Name: sales, dtype: float64"
      ]
     },
     "execution_count": 47,
     "metadata": {},
     "output_type": "execute_result"
    }
   ],
   "source": [
    "data.groupby('Month')['sales'].sum()"
   ]
  },
  {
   "cell_type": "code",
   "execution_count": 54,
   "id": "65bf0fec",
   "metadata": {},
   "outputs": [],
   "source": [
    "def city(x):\n",
    "    return x.split(',')[1]"
   ]
  },
  {
   "cell_type": "code",
   "execution_count": 56,
   "id": "c7e6b3da",
   "metadata": {},
   "outputs": [],
   "source": [
    "data['city']=data['Purchase Address'].apply(city)"
   ]
  },
  {
   "cell_type": "code",
   "execution_count": 59,
   "id": "6f75c849",
   "metadata": {},
   "outputs": [],
   "source": [
    "countincitites=data.groupby('city')['city'].count()"
   ]
  },
  {
   "cell_type": "code",
   "execution_count": 57,
   "id": "bae07dc3",
   "metadata": {},
   "outputs": [
    {
     "data": {
      "image/png": "[encoded data removed]",
      "text/plain": [
       "<Figure size 648x360 with 1 Axes>"
      ]
     },
     "metadata": {
      "needs_background": "light"
     },
     "output_type": "display_data"
    }
   ],
   "source": [
    "plt.rcParams['figure.figsize'] = (9, 5)\n",
    "months=range(1,13)\n",
    "plt.bar(months,data.groupby('Month')['sales'].sum())\n",
    "plt.xticks(months)\n",
    "plt.title('Sales Per Month in USD', fontsize = 20)\n",
    "plt.ylabel('Sales in USD ($)')\n",
    "plt.xlabel('Month number')\n",
    "plt.show()"
   ]
  },
  {
   "cell_type": "code",
   "execution_count": 63,
   "id": "f774ed38",
   "metadata": {},
   "outputs": [
    {
     "data": {
      "image/png": "[encoded data removed]",
      "text/plain": [
       "<Figure size 648x360 with 1 Axes>"
      ]
     },
     "metadata": {
      "needs_background": "light"
     },
     "output_type": "display_data"
    }
   ],
   "source": [
    "plt.bar(data.groupby('city')['city'].count().index,data.groupby('city')['city'].count())\n",
    "plt.title('Maximum City with Orders', fontsize = 20)\n",
    "plt.xticks(rotation='vertical')\n",
    "plt.ylabel('received orders')\n",
    "plt.xlabel('city names')\n",
    "plt.show()"
   ]
  },
  {
   "cell_type": "code",
   "execution_count": 65,
   "id": "6247db37",
   "metadata": {},
   "outputs": [
    {
     "data": {
      "text/plain": [
       "dtype('O')"
      ]
     },
     "execution_count": 65,
     "metadata": {},
     "output_type": "execute_result"
    }
   ],
   "source": [
    "data['Order Date'][0].dtype"
   ]
  },
  {
   "cell_type": "code",
   "execution_count": 67,
   "id": "16edcac4",
   "metadata": {},
   "outputs": [],
   "source": [
    "data['Hour'] = pd.to_datetime(data['Order Date']).dt.hour"
   ]
  },
  {
   "cell_type": "code",
   "execution_count": 69,
   "id": "1f6100c6",
   "metadata": {},
   "outputs": [],
   "source": [
    "keys=[]\n",
    "hour=[]\n",
    "for key,hour_df in data.groupby('Hour'):\n",
    "    keys.append(key)\n",
    "    hour.append(len(hour_df))"
   ]
  },
  {
   "cell_type": "code",
   "execution_count": 70,
   "id": "23a88989",
   "metadata": {},
   "outputs": [
    {
     "data": {
      "text/plain": [
       "[<matplotlib.lines.Line2D at 0x2a9ace5f9d0>]"
      ]
     },
     "execution_count": 70,
     "metadata": {},
     "output_type": "execute_result"
    },
    {
     "data": {
      "image/png": "[encoded data removed]",
      "text/plain": [
       "<Figure size 648x360 with 1 Axes>"
      ]
     },
     "metadata": {
      "needs_background": "light"
     },
     "output_type": "display_data"
    }
   ],
   "source": [
    "plt.grid()\n",
    "plt.plot(keys,hour)"
   ]
  },
  {
   "cell_type": "code",
   "execution_count": null,
   "id": "61641eba",
   "metadata": {},
   "outputs": [],
   "source": [
    "    \n",
    "    "
   ]
  },
  {
   "cell_type": "code",
   "execution_count": 72,
   "id": "fe466a9c",
   "metadata": {},
   "outputs": [
    {
     "data": {
      "text/plain": [
       "<AxesSubplot:xlabel='Product'>"
      ]
     },
     "execution_count": 72,
     "metadata": {},
     "output_type": "execute_result"
    },
    {
     "data": {
      "image/png": "[encoded data removed]",
      "text/plain": [
       "<Figure size 648x360 with 1 Axes>"
      ]
     },
     "metadata": {
      "needs_background": "light"
     },
     "output_type": "display_data"
    }
   ],
   "source": [
    "data.groupby('Product')['Quantity Ordered'].sum().plot(kind='bar')"
   ]
  },
  {
   "cell_type": "code",
   "execution_count": 75,
   "id": "08c489f3",
   "metadata": {},
   "outputs": [
    {
     "data": {
      "text/plain": [
       "Product\n",
       "20in Monitor                   109.99\n",
       "27in 4K Gaming Monitor         389.99\n",
       "27in FHD Monitor               149.99\n",
       "34in Ultrawide Monitor         379.99\n",
       "AA Batteries (4-pack)            3.84\n",
       "AAA Batteries (4-pack)           2.99\n",
       "Apple Airpods Headphones       150.00\n",
       "Bose SoundSport Headphones      99.99\n",
       "Flatscreen TV                  300.00\n",
       "Google Phone                   600.00\n",
       "LG Dryer                       600.00\n",
       "LG Washing Machine             600.00\n",
       "Lightning Charging Cable        14.95\n",
       "Macbook Pro Laptop            1700.00\n",
       "ThinkPad Laptop                999.99\n",
       "USB-C Charging Cable            11.95\n",
       "Vareebadd Phone                400.00\n",
       "Wired Headphones                11.99\n",
       "iPhone                         700.00\n",
       "Name: Price Each, dtype: float64"
      ]
     },
     "execution_count": 75,
     "metadata": {},
     "output_type": "execute_result"
    }
   ],
   "source": [
    "data.groupby('Product')['Price Each'].mean()"
   ]
  },
  {
   "cell_type": "code",
   "execution_count": 77,
   "id": "3f85028c",
   "metadata": {},
   "outputs": [],
   "source": [
    "products=data.groupby('Product')['Quantity Ordered'].sum().index\n",
    "quantity=data.groupby('Product')['Quantity Ordered'].sum()\n",
    "prices=data.groupby('Product')['Price Each'].mean()"
   ]
  },
  {
   "cell_type": "code",
   "execution_count": 78,
   "id": "63a7e3c8",
   "metadata": {},
   "outputs": [
    {
     "name": "stderr",
     "output_type": "stream",
     "text": [
      "<ipython-input-78-2f7dc3427216>:6: UserWarning: FixedFormatter should only be used together with FixedLocator\n",
      "  ax1.set_xticklabels(products, rotation='vertical', size=8)\n"
     ]
    },
    {
     "data": {
      "text/plain": [
       "[Text(0, 0, '20in Monitor'),\n",
       " Text(1, 0, '27in 4K Gaming Monitor'),\n",
       " Text(2, 0, '27in FHD Monitor'),\n",
       " Text(3, 0, '34in Ultrawide Monitor'),\n",
       " Text(4, 0, 'AA Batteries (4-pack)'),\n",
       " Text(5, 0, 'AAA Batteries (4-pack)'),\n",
       " Text(6, 0, 'Apple Airpods Headphones'),\n",
       " Text(7, 0, 'Bose SoundSport Headphones'),\n",
       " Text(8, 0, 'Flatscreen TV'),\n",
       " Text(9, 0, 'Google Phone'),\n",
       " Text(10, 0, 'LG Dryer'),\n",
       " Text(11, 0, 'LG Washing Machine'),\n",
       " Text(12, 0, 'Lightning Charging Cable'),\n",
       " Text(13, 0, 'Macbook Pro Laptop'),\n",
       " Text(14, 0, 'ThinkPad Laptop'),\n",
       " Text(15, 0, 'USB-C Charging Cable'),\n",
       " Text(16, 0, 'Vareebadd Phone'),\n",
       " Text(17, 0, 'Wired Headphones'),\n",
       " Text(18, 0, 'iPhone')]"
      ]
     },
     "execution_count": 78,
     "metadata": {},
     "output_type": "execute_result"
    },
    {
     "data": {
      "text/plain": [
       "<Figure size 2880x1728 with 0 Axes>"
      ]
     },
     "metadata": {},
     "output_type": "display_data"
    },
    {
     "data": {
      "image/png": "[encoded data removed]",
      "text/plain": [
       "<Figure size 648x360 with 2 Axes>"
      ]
     },
     "metadata": {
      "needs_background": "light"
     },
     "output_type": "display_data"
    }
   ],
   "source": [
    "plt.figure(figsize=(40,24))\n",
    "fig,ax1 = plt.subplots()\n",
    "ax2=ax1.twinx()\n",
    "ax1.bar(products, quantity, color='g')\n",
    "ax2.plot(products, prices, 'b-')\n",
    "ax1.set_xticklabels(products, rotation='vertical', size=8)"
   ]
  },
  {
   "cell_type": "code",
   "execution_count": 79,
   "id": "a9006515",
   "metadata": {},
   "outputs": [
    {
     "data": {
      "text/html": [
       "<div>\n",
       "<style scoped>\n",
       "    .dataframe tbody tr th:only-of-type {\n",
       "        vertical-align: middle;\n",
       "    }\n",
       "\n",
       "    .dataframe tbody tr th {\n",
       "        vertical-align: top;\n",
       "    }\n",
       "\n",
       "    .dataframe thead th {\n",
       "        text-align: right;\n",
       "    }\n",
       "</style>\n",
       "<table border=\"1\" class=\"dataframe\">\n",
       "  <thead>\n",
       "    <tr style=\"text-align: right;\">\n",
       "      <th></th>\n",
       "      <th>Order ID</th>\n",
       "      <th>Product</th>\n",
       "      <th>Quantity Ordered</th>\n",
       "      <th>Price Each</th>\n",
       "      <th>Order Date</th>\n",
       "      <th>Purchase Address</th>\n",
       "    </tr>\n",
       "  </thead>\n",
       "  <tbody>\n",
       "    <tr>\n",
       "      <th>0</th>\n",
       "      <td>176558</td>\n",
       "      <td>USB-C Charging Cable</td>\n",
       "      <td>2</td>\n",
       "      <td>11.95</td>\n",
       "      <td>04/19/19 08:46</td>\n",
       "      <td>917 1st St, Dallas, TX 75001</td>\n",
       "    </tr>\n",
       "    <tr>\n",
       "      <th>2</th>\n",
       "      <td>176559</td>\n",
       "      <td>Bose SoundSport Headphones</td>\n",
       "      <td>1</td>\n",
       "      <td>99.99</td>\n",
       "      <td>04/07/19 22:30</td>\n",
       "      <td>682 Chestnut St, Boston, MA 02215</td>\n",
       "    </tr>\n",
       "    <tr>\n",
       "      <th>3</th>\n",
       "      <td>176560</td>\n",
       "      <td>Google Phone</td>\n",
       "      <td>1</td>\n",
       "      <td>600</td>\n",
       "      <td>04/12/19 14:38</td>\n",
       "      <td>669 Spruce St, Los Angeles, CA 90001</td>\n",
       "    </tr>\n",
       "    <tr>\n",
       "      <th>4</th>\n",
       "      <td>176560</td>\n",
       "      <td>Wired Headphones</td>\n",
       "      <td>1</td>\n",
       "      <td>11.99</td>\n",
       "      <td>04/12/19 14:38</td>\n",
       "      <td>669 Spruce St, Los Angeles, CA 90001</td>\n",
       "    </tr>\n",
       "    <tr>\n",
       "      <th>5</th>\n",
       "      <td>176561</td>\n",
       "      <td>Wired Headphones</td>\n",
       "      <td>1</td>\n",
       "      <td>11.99</td>\n",
       "      <td>04/30/19 09:27</td>\n",
       "      <td>333 8th St, Los Angeles, CA 90001</td>\n",
       "    </tr>\n",
       "    <tr>\n",
       "      <th>6</th>\n",
       "      <td>176562</td>\n",
       "      <td>USB-C Charging Cable</td>\n",
       "      <td>1</td>\n",
       "      <td>11.95</td>\n",
       "      <td>04/29/19 13:03</td>\n",
       "      <td>381 Wilson St, San Francisco, CA 94016</td>\n",
       "    </tr>\n",
       "    <tr>\n",
       "      <th>7</th>\n",
       "      <td>176563</td>\n",
       "      <td>Bose SoundSport Headphones</td>\n",
       "      <td>1</td>\n",
       "      <td>99.99</td>\n",
       "      <td>04/02/19 07:46</td>\n",
       "      <td>668 Center St, Seattle, WA 98101</td>\n",
       "    </tr>\n",
       "    <tr>\n",
       "      <th>8</th>\n",
       "      <td>176564</td>\n",
       "      <td>USB-C Charging Cable</td>\n",
       "      <td>1</td>\n",
       "      <td>11.95</td>\n",
       "      <td>04/12/19 10:58</td>\n",
       "      <td>790 Ridge St, Atlanta, GA 30301</td>\n",
       "    </tr>\n",
       "    <tr>\n",
       "      <th>9</th>\n",
       "      <td>176565</td>\n",
       "      <td>Macbook Pro Laptop</td>\n",
       "      <td>1</td>\n",
       "      <td>1700</td>\n",
       "      <td>04/24/19 10:38</td>\n",
       "      <td>915 Willow St, San Francisco, CA 94016</td>\n",
       "    </tr>\n",
       "    <tr>\n",
       "      <th>10</th>\n",
       "      <td>176566</td>\n",
       "      <td>Wired Headphones</td>\n",
       "      <td>1</td>\n",
       "      <td>11.99</td>\n",
       "      <td>04/08/19 14:05</td>\n",
       "      <td>83 7th St, Boston, MA 02215</td>\n",
       "    </tr>\n",
       "    <tr>\n",
       "      <th>11</th>\n",
       "      <td>176567</td>\n",
       "      <td>Google Phone</td>\n",
       "      <td>1</td>\n",
       "      <td>600</td>\n",
       "      <td>04/18/19 17:18</td>\n",
       "      <td>444 7th St, Los Angeles, CA 90001</td>\n",
       "    </tr>\n",
       "    <tr>\n",
       "      <th>12</th>\n",
       "      <td>176568</td>\n",
       "      <td>Lightning Charging Cable</td>\n",
       "      <td>1</td>\n",
       "      <td>14.95</td>\n",
       "      <td>04/15/19 12:18</td>\n",
       "      <td>438 Elm St, Seattle, WA 98101</td>\n",
       "    </tr>\n",
       "    <tr>\n",
       "      <th>13</th>\n",
       "      <td>176569</td>\n",
       "      <td>27in 4K Gaming Monitor</td>\n",
       "      <td>1</td>\n",
       "      <td>389.99</td>\n",
       "      <td>04/16/19 19:23</td>\n",
       "      <td>657 Hill St, Dallas, TX 75001</td>\n",
       "    </tr>\n",
       "    <tr>\n",
       "      <th>14</th>\n",
       "      <td>176570</td>\n",
       "      <td>AA Batteries (4-pack)</td>\n",
       "      <td>1</td>\n",
       "      <td>3.84</td>\n",
       "      <td>04/22/19 15:09</td>\n",
       "      <td>186 12th St, Dallas, TX 75001</td>\n",
       "    </tr>\n",
       "    <tr>\n",
       "      <th>15</th>\n",
       "      <td>176571</td>\n",
       "      <td>Lightning Charging Cable</td>\n",
       "      <td>1</td>\n",
       "      <td>14.95</td>\n",
       "      <td>04/19/19 14:29</td>\n",
       "      <td>253 Johnson St, Atlanta, GA 30301</td>\n",
       "    </tr>\n",
       "    <tr>\n",
       "      <th>16</th>\n",
       "      <td>176572</td>\n",
       "      <td>Apple Airpods Headphones</td>\n",
       "      <td>1</td>\n",
       "      <td>150</td>\n",
       "      <td>04/04/19 20:30</td>\n",
       "      <td>149 Dogwood St, New York City, NY 10001</td>\n",
       "    </tr>\n",
       "    <tr>\n",
       "      <th>17</th>\n",
       "      <td>176573</td>\n",
       "      <td>USB-C Charging Cable</td>\n",
       "      <td>1</td>\n",
       "      <td>11.95</td>\n",
       "      <td>04/27/19 18:41</td>\n",
       "      <td>214 Chestnut St, San Francisco, CA 94016</td>\n",
       "    </tr>\n",
       "    <tr>\n",
       "      <th>18</th>\n",
       "      <td>176574</td>\n",
       "      <td>Google Phone</td>\n",
       "      <td>1</td>\n",
       "      <td>600</td>\n",
       "      <td>04/03/19 19:42</td>\n",
       "      <td>20 Hill St, Los Angeles, CA 90001</td>\n",
       "    </tr>\n",
       "    <tr>\n",
       "      <th>19</th>\n",
       "      <td>176574</td>\n",
       "      <td>USB-C Charging Cable</td>\n",
       "      <td>1</td>\n",
       "      <td>11.95</td>\n",
       "      <td>04/03/19 19:42</td>\n",
       "      <td>20 Hill St, Los Angeles, CA 90001</td>\n",
       "    </tr>\n",
       "    <tr>\n",
       "      <th>20</th>\n",
       "      <td>176575</td>\n",
       "      <td>AAA Batteries (4-pack)</td>\n",
       "      <td>1</td>\n",
       "      <td>2.99</td>\n",
       "      <td>04/27/19 00:30</td>\n",
       "      <td>433 Hill St, New York City, NY 10001</td>\n",
       "    </tr>\n",
       "  </tbody>\n",
       "</table>\n",
       "</div>"
      ],
      "text/plain": [
       "   Order ID                     Product Quantity Ordered Price Each  \\\n",
       "0    176558        USB-C Charging Cable                2      11.95   \n",
       "2    176559  Bose SoundSport Headphones                1      99.99   \n",
       "3    176560                Google Phone                1        600   \n",
       "4    176560            Wired Headphones                1      11.99   \n",
       "5    176561            Wired Headphones                1      11.99   \n",
       "6    176562        USB-C Charging Cable                1      11.95   \n",
       "7    176563  Bose SoundSport Headphones                1      99.99   \n",
       "8    176564        USB-C Charging Cable                1      11.95   \n",
       "9    176565          Macbook Pro Laptop                1       1700   \n",
       "10   176566            Wired Headphones                1      11.99   \n",
       "11   176567                Google Phone                1        600   \n",
       "12   176568    Lightning Charging Cable                1      14.95   \n",
       "13   176569      27in 4K Gaming Monitor                1     389.99   \n",
       "14   176570       AA Batteries (4-pack)                1       3.84   \n",
       "15   176571    Lightning Charging Cable                1      14.95   \n",
       "16   176572    Apple Airpods Headphones                1        150   \n",
       "17   176573        USB-C Charging Cable                1      11.95   \n",
       "18   176574                Google Phone                1        600   \n",
       "19   176574        USB-C Charging Cable                1      11.95   \n",
       "20   176575      AAA Batteries (4-pack)                1       2.99   \n",
       "\n",
       "        Order Date                          Purchase Address  \n",
       "0   04/19/19 08:46              917 1st St, Dallas, TX 75001  \n",
       "2   04/07/19 22:30         682 Chestnut St, Boston, MA 02215  \n",
       "3   04/12/19 14:38      669 Spruce St, Los Angeles, CA 90001  \n",
       "4   04/12/19 14:38      669 Spruce St, Los Angeles, CA 90001  \n",
       "5   04/30/19 09:27         333 8th St, Los Angeles, CA 90001  \n",
       "6   04/29/19 13:03    381 Wilson St, San Francisco, CA 94016  \n",
       "7   04/02/19 07:46          668 Center St, Seattle, WA 98101  \n",
       "8   04/12/19 10:58           790 Ridge St, Atlanta, GA 30301  \n",
       "9   04/24/19 10:38    915 Willow St, San Francisco, CA 94016  \n",
       "10  04/08/19 14:05               83 7th St, Boston, MA 02215  \n",
       "11  04/18/19 17:18         444 7th St, Los Angeles, CA 90001  \n",
       "12  04/15/19 12:18             438 Elm St, Seattle, WA 98101  \n",
       "13  04/16/19 19:23             657 Hill St, Dallas, TX 75001  \n",
       "14  04/22/19 15:09             186 12th St, Dallas, TX 75001  \n",
       "15  04/19/19 14:29         253 Johnson St, Atlanta, GA 30301  \n",
       "16  04/04/19 20:30   149 Dogwood St, New York City, NY 10001  \n",
       "17  04/27/19 18:41  214 Chestnut St, San Francisco, CA 94016  \n",
       "18  04/03/19 19:42         20 Hill St, Los Angeles, CA 90001  \n",
       "19  04/03/19 19:42         20 Hill St, Los Angeles, CA 90001  \n",
       "20  04/27/19 00:30      433 Hill St, New York City, NY 10001  "
      ]
     },
     "execution_count": 79,
     "metadata": {},
     "output_type": "execute_result"
    }
   ],
   "source": [
    "df=all_data[all_data['Order ID'].duplicated(keep=False)]\n",
    "df.head(20)"
   ]
  },
  {
   "cell_type": "code",
   "execution_count": 80,
   "id": "84655891",
   "metadata": {},
   "outputs": [],
   "source": [
    "#create grouped col \n",
    "df['Grouped'] = df.groupby('Order ID')['Product'].transform(lambda x: ','.join(x))"
   ]
  },
  {
   "cell_type": "code",
   "execution_count": 81,
   "id": "b9937214",
   "metadata": {},
   "outputs": [],
   "source": [
    "#lets drop out all duplicate Order ID\n",
    "df2 = df.drop_duplicates(subset=['Order ID'])"
   ]
  },
  {
   "cell_type": "code",
   "execution_count": 82,
   "id": "fd7fa998",
   "metadata": {},
   "outputs": [
    {
     "data": {
      "text/plain": [
       "<AxesSubplot:ylabel='Grouped'>"
      ]
     },
     "execution_count": 82,
     "metadata": {},
     "output_type": "execute_result"
    },
    {
     "data": {
      "image/png": "[encoded data removed]",
      "text/plain": [
       "<Figure size 648x360 with 1 Axes>"
      ]
     },
     "metadata": {},
     "output_type": "display_data"
    }
   ],
   "source": [
    "df2['Grouped'].value_counts()[0:5].plot.pie()"
   ]
  },
  {
   "cell_type": "code",
   "execution_count": 83,
   "id": "5e100105",
   "metadata": {},
   "outputs": [],
   "source": [
    "values=df2['Grouped'].value_counts()[0:5]\n",
    "labels=df['Grouped'].value_counts()[0:5].index"
   ]
  },
  {
   "cell_type": "code",
   "execution_count": 98,
   "id": "5435e4dd",
   "metadata": {},
   "outputs": [
    {
     "data": {
      "image/png": "[encoded data removed]",
      "text/plain": [
       "<Figure size 648x648 with 1 Axes>"
      ]
     },
     "metadata": {},
     "output_type": "display_data"
    }
   ],
   "source": [
    "sizes = values.value_counts()\n",
    "colors = plt.cm.copper(np.linspace(0, 1, 5))\n",
    "explode = [0, 0.1, 0.1, 0.1, 0.1]\n",
    "\n",
    "plt.rcParams['figure.figsize'] = (9, 9)\n",
    "plt.pie(sizes, labels = labels, colors = colors, explode = explode, shadow = True,)\n",
    "plt.title('Maximum Selling of Product', fontsize = 20)\n",
    "plt.legend()\n",
    "plt.show()"
   ]
  },
  {
   "cell_type": "code",
   "execution_count": null,
   "id": "bb082ba2",
   "metadata": {},
   "outputs": [],
   "source": []
  },
  {
   "cell_type": "code",
   "execution_count": null,
   "id": "dc2d2b1a",
   "metadata": {},
   "outputs": [],
   "source": []
  },
  {
   "cell_type": "code",
   "execution_count": null,
   "id": "f35084f9",
   "metadata": {},
   "outputs": [],
   "source": []
  }
 ],
 "metadata": {
  "kernelspec": {
   "display_name": "Python 3",
   "language": "python",
   "name": "python3"
  },
  "language_info": {
   "codemirror_mode": {
    "name": "ipython",
    "version": 3
   },
   "file_extension": ".py",
   "mimetype": "text/x-python",
   "name": "python",
   "nbconvert_exporter": "python",
   "pygments_lexer": "ipython3",
   "version": "3.8.8"
  }
 },
 "nbformat": 4,
 "nbformat_minor": 5
}
